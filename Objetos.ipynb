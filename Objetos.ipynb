{
 "cells": [
  {
   "cell_type": "code",
   "execution_count": 1,
   "metadata": {},
   "outputs": [
    {
     "data": {
      "text/plain": [
       "'import cv2\\n\\ndef extract_frames(video_path, output_folder):\\n    cap = cv2.VideoCapture(video_path)\\n    if not cap.isOpened():\\n        print(\"Error opening video file\")\\n        return\\n    fps = int(cap.get(cv2.CAP_PROP_FPS))\\n    frame_count = 0\\n    while True:\\n        # Read the next frame\\n        ret, frame = cap.read()\\n        # Break the loop if we have reached the end of the video\\n        if not ret:\\n            break\\n        frame_filename = f\"{output_folder}/frame_{frame_count:04d}.jpg\"\\n        cv2.imwrite(frame_filename, frame)\\n        print(f\"Extracted frame {frame_count}\")\\n        frame_count += 1\\n    cap.release()\\n    print(f\"Frames extracted: {frame_count}\")\\n    print(f\"Frames per second (fps): {fps}\")\\n\\n# Example usage\\nvideo_path = \"videos/video1.mp4\"\\noutput_folder = \"video1\"\\nextract_frames(video_path, output_folder)\\n'"
      ]
     },
     "execution_count": 1,
     "metadata": {},
     "output_type": "execute_result"
    }
   ],
   "source": [
    "'''import cv2\n",
    "\n",
    "def extract_frames(video_path, output_folder):\n",
    "    cap = cv2.VideoCapture(video_path)\n",
    "    if not cap.isOpened():\n",
    "        print(\"Error opening video file\")\n",
    "        return\n",
    "    fps = int(cap.get(cv2.CAP_PROP_FPS))\n",
    "    frame_count = 0\n",
    "    while True:\n",
    "        # Read the next frame\n",
    "        ret, frame = cap.read()\n",
    "        # Break the loop if we have reached the end of the video\n",
    "        if not ret:\n",
    "            break\n",
    "        frame_filename = f\"{output_folder}/frame_{frame_count:04d}.jpg\"\n",
    "        cv2.imwrite(frame_filename, frame)\n",
    "        print(f\"Extracted frame {frame_count}\")\n",
    "        frame_count += 1\n",
    "    cap.release()\n",
    "    print(f\"Frames extracted: {frame_count}\")\n",
    "    print(f\"Frames per second (fps): {fps}\")\n",
    "\n",
    "# Example usage\n",
    "video_path = \"videos/video1.mp4\"\n",
    "output_folder = \"video1\"\n",
    "extract_frames(video_path, output_folder)\n",
    "'''"
   ]
  },
  {
   "cell_type": "code",
   "execution_count": 4,
   "metadata": {},
   "outputs": [],
   "source": [
    "import cv2\n",
    "import imutils\n",
    "\n",
    "# Initializing the HOG person\n",
    "# detector\n",
    "hog = cv2.HOGDescriptor()\n",
    "hog.setSVMDetector(cv2.HOGDescriptor_getDefaultPeopleDetector())\n",
    "\n",
    "cap = cv2.VideoCapture('videos/video1.mp4')\n",
    "\n",
    "while cap.isOpened():\n",
    "\t# Reading the video stream\n",
    "\tret, image = cap.read()\n",
    "\tif ret:\n",
    "\t\timage = imutils.resize(image, \n",
    "\t\t\t\t\t\t\twidth=min(400, image.shape[1]))\n",
    "\n",
    "\t\t# Detecting all the regions \n",
    "\t\t# in the Image that has a \n",
    "\t\t# pedestrians inside it\n",
    "\t\t(regions, _) = hog.detectMultiScale(image,\n",
    "\t\t\t\t\t\t\t\t\t\t\twinStride=(4, 4),\n",
    "\t\t\t\t\t\t\t\t\t\t\tpadding=(4, 4),\n",
    "\t\t\t\t\t\t\t\t\t\t\tscale=1.05)\n",
    "\n",
    "\t\t# Drawing the regions in the \n",
    "\t\t# Image\n",
    "\t\tfor (x, y, w, h) in regions:\n",
    "\t\t\tcv2.rectangle(image, (x, y),\n",
    "\t\t\t\t\t\t(x + w, y + h), \n",
    "\t\t\t\t\t\t(0, 0, 255), 2)\n",
    "\n",
    "\t\t# Showing the output Image\n",
    "\t\tcv2.imshow(\"Image\", image)\n",
    "\t\tif cv2.waitKey(25) & 0xFF == ord('q'):\n",
    "\t\t\tbreak\n",
    "\telse:\n",
    "\t\tbreak\n",
    "\n",
    "cap.release()\n",
    "cv2.destroyAllWindows()\n"
   ]
  }
 ],
 "metadata": {
  "kernelspec": {
   "display_name": "primer",
   "language": "python",
   "name": "python3"
  },
  "language_info": {
   "codemirror_mode": {
    "name": "ipython",
    "version": 3
   },
   "file_extension": ".py",
   "mimetype": "text/x-python",
   "name": "python",
   "nbconvert_exporter": "python",
   "pygments_lexer": "ipython3",
   "version": "3.11.3"
  }
 },
 "nbformat": 4,
 "nbformat_minor": 2
}
